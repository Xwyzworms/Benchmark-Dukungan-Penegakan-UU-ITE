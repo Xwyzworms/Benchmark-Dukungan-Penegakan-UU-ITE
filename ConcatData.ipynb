{
  "nbformat": 4,
  "nbformat_minor": 0,
  "metadata": {
    "colab": {
      "name": "ConcatData.ipynb",
      "provenance": [],
      "collapsed_sections": []
    },
    "kernelspec": {
      "name": "python3",
      "display_name": "Python 3"
    },
    "language_info": {
      "name": "python"
    }
  },
  "cells": [
    {
      "cell_type": "code",
      "metadata": {
        "id": "cWPO8XymIQYd"
      },
      "source": [
        "# import module\n",
        "import pandas as pd\n",
        "import numpy as np\n",
        "import re\n"
      ],
      "execution_count": 4,
      "outputs": []
    },
    {
      "cell_type": "code",
      "metadata": {
        "colab": {
          "base_uri": "https://localhost:8080/"
        },
        "id": "Th3VXbECInyr",
        "outputId": "f1df4eda-1f75-4641-8d33-abc69238e51e"
      },
      "source": [
        "!gdown --id 1OjS92lR6qMUnZysccXKg3v5Q1yOsK3Y- #data Hatespeech Tambahan\n",
        "!gdown --id 1Y4xBp6ZUN0PFjGtAmMi_QWJccPV1AHH1 #data Hoax\n",
        "!gdown --id 1RndPNl3PBbIuZkLs8N1NybcT72PqY6uB #data Normal\n",
        "!gdown --id 1uhhzN2yFKyYqDy4Yi2pDSjvOw_0w_ELs #Data offensive\n"
      ],
      "execution_count": 5,
      "outputs": [
        {
          "output_type": "stream",
          "text": [
            "Downloading...\n",
            "From: https://drive.google.com/uc?id=1OjS92lR6qMUnZysccXKg3v5Q1yOsK3Y-\n",
            "To: /content/DataHateSpeech Telah Ditambah.csv\n",
            "100% 264k/264k [00:00<00:00, 106MB/s]\n",
            "Downloading...\n",
            "From: https://drive.google.com/uc?id=1Y4xBp6ZUN0PFjGtAmMi_QWJccPV1AHH1\n",
            "To: /content/datasetHoax.csv\n",
            "2.40MB [00:00, 159MB/s]\n",
            "Downloading...\n",
            "From: https://drive.google.com/uc?id=1RndPNl3PBbIuZkLs8N1NybcT72PqY6uB\n",
            "To: /content/normal.csv\n",
            "100% 897k/897k [00:00<00:00, 106MB/s]\n",
            "Downloading...\n",
            "From: https://drive.google.com/uc?id=1uhhzN2yFKyYqDy4Yi2pDSjvOw_0w_ELs\n",
            "To: /content/Offensive.csv\n",
            "100% 164k/164k [00:00<00:00, 56.8MB/s]\n"
          ],
          "name": "stdout"
        }
      ]
    },
    {
      "cell_type": "markdown",
      "metadata": {
        "id": "LQ1E4nDlMuSf"
      },
      "source": [
        "Pengubahan label\n",
        "\n",
        "## Normal : 0\n",
        "## Hoax : 1\n",
        "## Hate : 2\n",
        "## Offensive : 3"
      ]
    },
    {
      "cell_type": "code",
      "metadata": {
        "colab": {
          "base_uri": "https://localhost:8080/"
        },
        "id": "3s46ru47IXus",
        "outputId": "d1d9f357-9794-405c-cffa-38f896d1685f"
      },
      "source": [
        "dfHateSpeechtambahan = pd.read_csv(\"DataHateSpeech Telah Ditambah.csv\")\n",
        "dfHoax = pd.read_csv(\"datasetHoax.csv\")\n",
        "dfOffensive = pd.read_csv(\"Offensive.csv\")\n",
        "dfNormal = pd.read_csv(\"normal.csv\")\n",
        "\n",
        "print(dfHateSpeechtambahan.shape)\n",
        "print(dfHoax.shape)\n",
        "print(dfOffensive.shape)\n",
        "print(dfNormal.shape)"
      ],
      "execution_count": 6,
      "outputs": [
        {
          "output_type": "stream",
          "text": [
            "(2983, 1)\n",
            "(9660, 3)\n",
            "(1791, 1)\n",
            "(9055, 1)\n"
          ],
          "name": "stdout"
        }
      ]
    },
    {
      "cell_type": "code",
      "metadata": {
        "id": "fPCDEYzAIXw8"
      },
      "source": [
        "offen = [ 425,491,407,408,399,387,363,356,350,305,301,295,287,284,279,265,256,219,186,185,162,\n",
        "          160,155,131,116,113,109,64,1,2,7,20,24,31,36,39,491,407,408,399,387,363,356,350,305,301,\n",
        "          295,287,284,279,265,256,219,186,185,162,160,155,131,116,113,109,\n",
        "          64,507,528,533,542,556,626,668,669,670,695,717,748,759,780,807,\n",
        "          810,833,835,848,849,859,877,913,930,984,998,1003,1006,1014,\n",
        "          1044,1046,1063,1146,1149,1162,1158, 1186,1128,1243,1256,1287,1319,\n",
        "          1326,1335]\n",
        "\n",
        "Delete = [499,498 ,497, 493, 492,486,477,476,474,454,453,448,441,440, 411,406,403,395,392,389,368,341,\n",
        "          329,314,297,282,274,269,242,233,231,220,205,194,191,189,178,173,169,168,166,165,152,147,137,126,127,\n",
        "          105,104,78,76,58,0 , 4, 6,8,10,14,15,16,17,18,19,40,47,\n",
        "          502,510,513,522,527,541,543,561,562,572,589,591,592,605,622,624,\n",
        "          629,636,650,660,680,688,701,708,724,739,769,784,782,793,808,828,\n",
        "          912,949,972,993,1002,1018,1049,1043,1170,1183,1220,1253,1288,1289,\n",
        "          1308,1331,1328,1334,1347,1364,1383,1454]\n",
        "\n"
      ],
      "execution_count": 7,
      "outputs": []
    },
    {
      "cell_type": "code",
      "metadata": {
        "id": "-TWdr4noIXzl"
      },
      "source": [
        "drop = np.array([466 ,468 ,476 ,\t769 ,533 ,562 ,793 ,982 ,1095 ,1101 ,1041 ,1221 ,  1026 , 989 , 937 ,957 ,1313 ,1328 ,1421 ,1383 ,980\n",
        "        ,972 ,954 ,834 ,927 ,840 ,828 ,816 ,575 ,788 ,737 ,708 ,534 ,582 ,  557 ,461 ,520 ,543 ,477 ,508 ,478 ,510 ,\t454\n",
        "        ,\t255 ,383 ,414 ,390 ,392 ,376 ,391 , 361 ,442 ,448 ,384 , 364 , 302 , 169 ,207 ,187 ,0,159 ,7,173 ,15,162 ,16,17\n",
        "        ,147 ,172 ,77,155 ,118 ,157 ,78,104,106,109,110 ,127 , 119 ,116 ,115 , 112 ,127 ,111 ]) + 1460\n",
        "\n",
        "offensive=np.array([169 ,411 ,64,145 ,158 ,758 ,541 ,807 ,912 ,1265 ,757 ,605 ,399 ,1288 , 1220 ,502 ,1130 ,1334 ,1454 ,76]) + 1460\n",
        "\n",
        "Delete = np.concatenate([Delete,drop])\n"
      ],
      "execution_count": 8,
      "outputs": []
    },
    {
      "cell_type": "code",
      "metadata": {
        "id": "UA1SjP0yIX2K"
      },
      "source": [
        "DataInvalid = [4,8,9,12,16,28,95,102,109,110,111,112,131,152,177,194,202,224,228,255,258,285,322,\n",
        "               345,392,435,453,605,681,860,1058,1080,1102,1110,1237,1310,1312,1472,1478,1511,1696,1712]\n",
        "HateSpeech = [0,1,15,1554]"
      ],
      "execution_count": 9,
      "outputs": []
    },
    {
      "cell_type": "code",
      "metadata": {
        "id": "CRMjQcAEIX4i"
      },
      "source": [
        "dfHateSpeechtambahan[\"labels\"] = 2\n",
        "dfHateSpeechtambahan.loc[offen,\"labels\"] = 3\n",
        "dfHateSpeechtambahan.loc[offensive,\"labels\"] = 3\n"
      ],
      "execution_count": 10,
      "outputs": []
    },
    {
      "cell_type": "code",
      "metadata": {
        "id": "ir8BqurdIX64"
      },
      "source": [
        "dfHateSpeechtambahan = dfHateSpeechtambahan.drop(index=Delete)"
      ],
      "execution_count": 11,
      "outputs": []
    },
    {
      "cell_type": "code",
      "metadata": {
        "id": "P-3ynXxKIX8_"
      },
      "source": [
        "dfOffensive[\"labels\"] = 3\n",
        "dfOffensive.loc[HateSpeech] = 2\n",
        "dfOffensive = dfOffensive.drop(index=DataInvalid)"
      ],
      "execution_count": 12,
      "outputs": []
    },
    {
      "cell_type": "code",
      "metadata": {
        "id": "IbYZilKQIX_W"
      },
      "source": [
        "dfNormal[\"labels\"]= 0"
      ],
      "execution_count": 13,
      "outputs": []
    },
    {
      "cell_type": "code",
      "metadata": {
        "colab": {
          "base_uri": "https://localhost:8080/"
        },
        "id": "UYNc-iVQIYBs",
        "outputId": "9069f245-5b52-4a48-a22a-c553239ea20e"
      },
      "source": [
        "dfHoaxNormal = dfHoax.loc[dfHoax[\"label\"] == 0,:]\n",
        "dfHoax = dfHoax.loc[dfHoax[\"label\"] == 1, :]\n",
        "\n",
        "print(dfHoaxNormal.shape)\n",
        "print(dfHoax.shape)"
      ],
      "execution_count": 14,
      "outputs": [
        {
          "output_type": "stream",
          "text": [
            "(1471, 3)\n",
            "(8189, 3)\n"
          ],
          "name": "stdout"
        }
      ]
    },
    {
      "cell_type": "code",
      "metadata": {
        "colab": {
          "base_uri": "https://localhost:8080/"
        },
        "id": "SEP1ZNxSIzhw",
        "outputId": "ed5406cf-09c0-47f3-b9cd-1f3bafd8d547"
      },
      "source": [
        "dfHoaxNormal = dfHoaxNormal.iloc[:,[0,2]]\n",
        "dfHoax = dfHoax.iloc[:,[0,2]]\n",
        "print(dfHoaxNormal.shape)\n",
        "print(dfHoax.shape)"
      ],
      "execution_count": 15,
      "outputs": [
        {
          "output_type": "stream",
          "text": [
            "(1471, 2)\n",
            "(8189, 2)\n"
          ],
          "name": "stdout"
        }
      ]
    },
    {
      "cell_type": "code",
      "metadata": {
        "colab": {
          "base_uri": "https://localhost:8080/",
          "height": 80
        },
        "id": "BkL23pg4IzkM",
        "outputId": "e6c00458-d064-4a5e-fc12-d198282e6475"
      },
      "source": [
        "dfHoax = dfHoax.loc[:,[\"narasi\",\"label\"]]\n",
        "dfHoaxNormal = dfHoaxNormal.iloc[: , :]\n",
        "dfHoaxNormal.head(1)"
      ],
      "execution_count": 16,
      "outputs": [
        {
          "output_type": "execute_result",
          "data": {
            "text/html": [
              "<div>\n",
              "<style scoped>\n",
              "    .dataframe tbody tr th:only-of-type {\n",
              "        vertical-align: middle;\n",
              "    }\n",
              "\n",
              "    .dataframe tbody tr th {\n",
              "        vertical-align: top;\n",
              "    }\n",
              "\n",
              "    .dataframe thead th {\n",
              "        text-align: right;\n",
              "    }\n",
              "</style>\n",
              "<table border=\"1\" class=\"dataframe\">\n",
              "  <thead>\n",
              "    <tr style=\"text-align: right;\">\n",
              "      <th></th>\n",
              "      <th>narasi</th>\n",
              "      <th>label</th>\n",
              "    </tr>\n",
              "  </thead>\n",
              "  <tbody>\n",
              "    <tr>\n",
              "      <th>19</th>\n",
              "      <td>astaga sandiaga sarankan warga mengadu ke kelu...</td>\n",
              "      <td>0</td>\n",
              "    </tr>\n",
              "  </tbody>\n",
              "</table>\n",
              "</div>"
            ],
            "text/plain": [
              "                                               narasi  label\n",
              "19  astaga sandiaga sarankan warga mengadu ke kelu...      0"
            ]
          },
          "metadata": {
            "tags": []
          },
          "execution_count": 16
        }
      ]
    },
    {
      "cell_type": "code",
      "metadata": {
        "id": "AO_EwWigIzm1"
      },
      "source": [
        "dfHateSpeechtambahan.columns = [\"tweet\",\"labels\"]\n",
        "dfOffensive.columns =[\"tweet\",\"labels\"]\n",
        "dfNormal.columns = [\"tweet\",\"labels\"]\n",
        "dfHoax.columns =[\"tweet\",\"labels\"]\n",
        "dfHoaxNormal.columns = [\"tweet\",\"labels\"]"
      ],
      "execution_count": 17,
      "outputs": []
    },
    {
      "cell_type": "code",
      "metadata": {
        "colab": {
          "base_uri": "https://localhost:8080/",
          "height": 418
        },
        "id": "pnjEElRvIzpP",
        "outputId": "8d397c3d-2cc5-44fd-e88d-2d463a6887d1"
      },
      "source": [
        "dfAllData = pd.DataFrame(columns= [\"tweet\",\"labels\"])\n",
        "dfAllData = pd.concat([dfAllData,dfOffensive,dfHateSpeechtambahan,dfHoax,dfHoaxNormal,dfNormal])\n",
        "dfAllData"
      ],
      "execution_count": 18,
      "outputs": [
        {
          "output_type": "execute_result",
          "data": {
            "text/html": [
              "<div>\n",
              "<style scoped>\n",
              "    .dataframe tbody tr th:only-of-type {\n",
              "        vertical-align: middle;\n",
              "    }\n",
              "\n",
              "    .dataframe tbody tr th {\n",
              "        vertical-align: top;\n",
              "    }\n",
              "\n",
              "    .dataframe thead th {\n",
              "        text-align: right;\n",
              "    }\n",
              "</style>\n",
              "<table border=\"1\" class=\"dataframe\">\n",
              "  <thead>\n",
              "    <tr style=\"text-align: right;\">\n",
              "      <th></th>\n",
              "      <th>tweet</th>\n",
              "      <th>labels</th>\n",
              "    </tr>\n",
              "  </thead>\n",
              "  <tbody>\n",
              "    <tr>\n",
              "      <th>0</th>\n",
              "      <td>2</td>\n",
              "      <td>2</td>\n",
              "    </tr>\n",
              "    <tr>\n",
              "      <th>1</th>\n",
              "      <td>2</td>\n",
              "      <td>2</td>\n",
              "    </tr>\n",
              "    <tr>\n",
              "      <th>2</th>\n",
              "      <td>aku mau ngentot sama kamu</td>\n",
              "      <td>3</td>\n",
              "    </tr>\n",
              "    <tr>\n",
              "      <th>3</th>\n",
              "      <td>manusia kampret bernama syahroni daud ini akhi...</td>\n",
              "      <td>3</td>\n",
              "    </tr>\n",
              "    <tr>\n",
              "      <th>5</th>\n",
              "      <td>ada akun ketepu jutantp biarlah itu akun kapir...</td>\n",
              "      <td>3</td>\n",
              "    </tr>\n",
              "    <tr>\n",
              "      <th>...</th>\n",
              "      <td>...</td>\n",
              "      <td>...</td>\n",
              "    </tr>\n",
              "    <tr>\n",
              "      <th>9050</th>\n",
              "      <td>username sudah mengikuti mereka dari mereka de...</td>\n",
              "      <td>0</td>\n",
              "    </tr>\n",
              "    <tr>\n",
              "      <th>9051</th>\n",
              "      <td>iya juga satu gerbong sama semuanya mulut mere...</td>\n",
              "      <td>0</td>\n",
              "    </tr>\n",
              "    <tr>\n",
              "      <th>9052</th>\n",
              "      <td>selesai infus di rumah sakit langsung konferen...</td>\n",
              "      <td>0</td>\n",
              "    </tr>\n",
              "    <tr>\n",
              "      <th>9053</th>\n",
              "      <td>kalau kamu ajak saya pun memang saya tidak mau...</td>\n",
              "      <td>0</td>\n",
              "    </tr>\n",
              "    <tr>\n",
              "      <th>9054</th>\n",
              "      <td>lebih baik disuruh makan tali kopling apa dapa...</td>\n",
              "      <td>0</td>\n",
              "    </tr>\n",
              "  </tbody>\n",
              "</table>\n",
              "<p>23244 rows × 2 columns</p>\n",
              "</div>"
            ],
            "text/plain": [
              "                                                  tweet labels\n",
              "0                                                     2      2\n",
              "1                                                     2      2\n",
              "2                             aku mau ngentot sama kamu      3\n",
              "3     manusia kampret bernama syahroni daud ini akhi...      3\n",
              "5     ada akun ketepu jutantp biarlah itu akun kapir...      3\n",
              "...                                                 ...    ...\n",
              "9050  username sudah mengikuti mereka dari mereka de...      0\n",
              "9051  iya juga satu gerbong sama semuanya mulut mere...      0\n",
              "9052  selesai infus di rumah sakit langsung konferen...      0\n",
              "9053  kalau kamu ajak saya pun memang saya tidak mau...      0\n",
              "9054  lebih baik disuruh makan tali kopling apa dapa...      0\n",
              "\n",
              "[23244 rows x 2 columns]"
            ]
          },
          "metadata": {
            "tags": []
          },
          "execution_count": 18
        }
      ]
    },
    {
      "cell_type": "code",
      "metadata": {
        "colab": {
          "base_uri": "https://localhost:8080/",
          "height": 172
        },
        "id": "HwNuFk6bIzrq",
        "outputId": "8a759b36-6658-45f5-92c4-92a8d63c21de"
      },
      "source": [
        "dfAllData[dfAllData[\"tweet\"].isin([0,1,2,3,4,5,6,7,8,9])]"
      ],
      "execution_count": 19,
      "outputs": [
        {
          "output_type": "execute_result",
          "data": {
            "text/html": [
              "<div>\n",
              "<style scoped>\n",
              "    .dataframe tbody tr th:only-of-type {\n",
              "        vertical-align: middle;\n",
              "    }\n",
              "\n",
              "    .dataframe tbody tr th {\n",
              "        vertical-align: top;\n",
              "    }\n",
              "\n",
              "    .dataframe thead th {\n",
              "        text-align: right;\n",
              "    }\n",
              "</style>\n",
              "<table border=\"1\" class=\"dataframe\">\n",
              "  <thead>\n",
              "    <tr style=\"text-align: right;\">\n",
              "      <th></th>\n",
              "      <th>tweet</th>\n",
              "      <th>labels</th>\n",
              "    </tr>\n",
              "  </thead>\n",
              "  <tbody>\n",
              "    <tr>\n",
              "      <th>0</th>\n",
              "      <td>2</td>\n",
              "      <td>2</td>\n",
              "    </tr>\n",
              "    <tr>\n",
              "      <th>1</th>\n",
              "      <td>2</td>\n",
              "      <td>2</td>\n",
              "    </tr>\n",
              "    <tr>\n",
              "      <th>15</th>\n",
              "      <td>2</td>\n",
              "      <td>2</td>\n",
              "    </tr>\n",
              "    <tr>\n",
              "      <th>1554</th>\n",
              "      <td>2</td>\n",
              "      <td>2</td>\n",
              "    </tr>\n",
              "  </tbody>\n",
              "</table>\n",
              "</div>"
            ],
            "text/plain": [
              "     tweet labels\n",
              "0        2      2\n",
              "1        2      2\n",
              "15       2      2\n",
              "1554     2      2"
            ]
          },
          "metadata": {
            "tags": []
          },
          "execution_count": 19
        }
      ]
    },
    {
      "cell_type": "code",
      "metadata": {
        "id": "YSH59VSZIzt7"
      },
      "source": [
        "dfAllData = dfAllData.drop(index = [0,1,15,1554])"
      ],
      "execution_count": 20,
      "outputs": []
    },
    {
      "cell_type": "code",
      "metadata": {
        "id": "hOfwn6u5I6cY"
      },
      "source": [
        "dfAllData.to_csv(\"AllData.csv\",index=True)"
      ],
      "execution_count": 21,
      "outputs": []
    }
  ]
}